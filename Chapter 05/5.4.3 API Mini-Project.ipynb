{
 "cells": [
  {
   "cell_type": "markdown",
   "metadata": {},
   "source": [
    "This exercise will require you to pull some data from the Qunadl API. Qaundl is currently the most widely used aggregator of financial market data."
   ]
  },
  {
   "cell_type": "markdown",
   "metadata": {},
   "source": [
    "As a first step, you will need to register a free account on the http://www.quandl.com website."
   ]
  },
  {
   "cell_type": "markdown",
   "metadata": {},
   "source": [
    "After you register, you will be provided with a unique API key, that you should store:"
   ]
  },
  {
   "cell_type": "code",
   "execution_count": 1,
   "metadata": {},
   "outputs": [],
   "source": [
    "# Store the API key as a string - according to PEP8, constants are always named in all upper case\n",
    "API_KEY = '.....'"
   ]
  },
  {
   "cell_type": "markdown",
   "metadata": {},
   "source": [
    "Qaundl has a large number of data sources, but, unfortunately, most of them require a Premium subscription. Still, there are also a good number of free datasets."
   ]
  },
  {
   "cell_type": "markdown",
   "metadata": {},
   "source": [
    "For this mini project, we will focus on equities data from the Frankfurt Stock Exhange (FSE), which is available for free. We'll try and analyze the stock prices of a company called Carl Zeiss Meditec, which manufactures tools for eye examinations, as well as medical lasers for laser eye surgery: https://www.zeiss.com/meditec/int/home.html. The company is listed under the stock ticker AFX_X."
   ]
  },
  {
   "cell_type": "markdown",
   "metadata": {},
   "source": [
    "You can find the detailed Quandl API instructions here: https://docs.quandl.com/docs/time-series"
   ]
  },
  {
   "cell_type": "markdown",
   "metadata": {},
   "source": [
    "While there is a dedicated Python package for connecting to the Quandl API, we would prefer that you use the *requests* package, which can be easily downloaded using *pip* or *conda*. You can find the documentation for the package here: http://docs.python-requests.org/en/master/ "
   ]
  },
  {
   "cell_type": "markdown",
   "metadata": {},
   "source": [
    "Finally, apart from the *requests* package, you are encouraged to not use any third party Python packages, such as *pandas*, and instead focus on what's available in the Python Standard Library (the *collections* module might come in handy: https://pymotw.com/3/collections/ ).\n",
    "Also, since you won't have access to DataFrames, you are encouraged to us Python's native data structures - preferably dictionaries, though some questions can also be answered using lists.\n",
    "You can read more on these data structures here: https://docs.python.org/3/tutorial/datastructures.html"
   ]
  },
  {
   "cell_type": "markdown",
   "metadata": {},
   "source": [
    "Keep in mind that the JSON responses you will be getting from the API map almost one-to-one to Python's dictionaries. Unfortunately, they can be very nested, so make sure you read up on indexing dictionaries in the documentation provided above."
   ]
  },
  {
   "cell_type": "code",
   "execution_count": 2,
   "metadata": {},
   "outputs": [],
   "source": [
    "# First, import the relevant modules\n",
    "import requests\n",
    "import json\n"
   ]
  },
  {
   "cell_type": "code",
   "execution_count": 6,
   "metadata": {},
   "outputs": [],
   "source": [
    "# Now, call the Quandl API and pull out a small sample of the data (only one day) to get a glimpse\n",
    "# into the JSON structure that will be returned\n",
    "url = 'https://www.quandl.com/api/v3/datasets/FSE/AFX_X.json'\n",
    "params = {\n",
    "    'start_date': '2019-09-03',\n",
    "    'end_date': '2019-09-04',\n",
    "    'api_key': API_KEY\n",
    "}\n",
    "\n",
    "resp = requests.get(url=url, params=params)\n",
    "json_resp = resp.json()"
   ]
  },
  {
   "cell_type": "code",
   "execution_count": 7,
   "metadata": {},
   "outputs": [
    {
     "name": "stdout",
     "output_type": "stream",
     "text": [
      "{'dataset': {'id': 10095370, 'dataset_code': 'AFX_X', 'database_code': 'FSE', 'name': 'Carl Zeiss Meditec (AFX_X)', 'description': 'Stock Prices for Carl Zeiss Meditec (2019-08-27) from the Frankfurt Stock Exchange.<br><br>Trading System: Xetra<br><br>ISIN: DE0005313704', 'refreshed_at': '2019-09-10T22:17:54.735Z', 'newest_available_date': '2019-09-10', 'oldest_available_date': '2000-06-07', 'column_names': ['Date', 'Open', 'High', 'Low', 'Close', 'Change', 'Traded Volume', 'Turnover', 'Last Price of the Day', 'Daily Traded Units', 'Daily Turnover'], 'frequency': 'daily', 'type': 'Time Series', 'premium': False, 'limit': None, 'transform': None, 'column_index': None, 'start_date': '2019-09-03', 'end_date': '2019-09-04', 'data': [['2019-09-04', 107.4, 109.1, 107.1, 108.3, None, 94641.0, 10247516.0, None, None, None], ['2019-09-03', 107.4, 107.7, 105.9, 107.0, None, 105012.0, 11237644.0, None, None, None]], 'collapse': None, 'order': None, 'database_id': 6129}}\n"
     ]
    }
   ],
   "source": [
    "# Inspect the JSON structure of the object you created, and take note of how nested it is,\n",
    "# as well as the overall structure\n",
    "print(json_resp)"
   ]
  },
  {
   "cell_type": "markdown",
   "metadata": {},
   "source": [
    "These are your tasks for this mini project:\n",
    "\n",
    "1. Collect data from the Franfurt Stock Exchange, for the ticker AFX_X, for the whole year 2017 (keep in mind that the date format is YYYY-MM-DD).\n",
    "2. Convert the returned JSON object into a Python dictionary.\n",
    "3. Calculate what the highest and lowest opening prices were for the stock in this period.\n",
    "4. What was the largest change in any one day (based on High and Low price)?\n",
    "5. What was the largest change between any two days (based on Closing Price)?\n",
    "6. What was the average daily trading volume during this year?\n",
    "7. (Optional) What was the median trading volume during this year. (Note: you may need to implement your own function for calculating the median.)"
   ]
  },
  {
   "cell_type": "markdown",
   "metadata": {
    "collapsed": true
   },
   "source": [
    "## 1. Collect data from FSE, for the ticker AFX_X for the whole year 2017 "
   ]
  },
  {
   "cell_type": "code",
   "execution_count": 9,
   "metadata": {},
   "outputs": [],
   "source": [
    "url = 'https://www.quandl.com/api/v3/datasets/FSE/AFX_X.json'\n",
    "params = {\n",
    "    'start_date': '2017-01-01',\n",
    "    'end_date': '2017-12-31',\n",
    "    'api_key': API_KEY\n",
    "}\n",
    "\n",
    "resp = requests.get(url=url, params=params)"
   ]
  },
  {
   "cell_type": "markdown",
   "metadata": {},
   "source": [
    "## 2. Convert the returned JSON object into a Python dictionary"
   ]
  },
  {
   "cell_type": "code",
   "execution_count": 11,
   "metadata": {},
   "outputs": [
    {
     "data": {
      "text/plain": [
       "dict"
      ]
     },
     "execution_count": 11,
     "metadata": {},
     "output_type": "execute_result"
    }
   ],
   "source": [
    "json_resp = resp.json()\n",
    "type(json_resp)"
   ]
  },
  {
   "cell_type": "markdown",
   "metadata": {},
   "source": [
    "## 3. Calculate what the highest and lowest opening prices were for the stock in this period.\n",
    "\n",
    "Based on the one day stock information printed above we can notice that the info lies within **data** field whose value is a *list of list*.\n",
    "        \n",
    "            dataset -> data"
   ]
  },
  {
   "cell_type": "code",
   "execution_count": 18,
   "metadata": {},
   "outputs": [
    {
     "name": "stdout",
     "output_type": "stream",
     "text": [
      "In 2017 this stock had a Max Opening of 53.11 on 2017-12-14\n",
      "In 2017 this stock had a Min Opening of 34.0 on 2017-01-24\n"
     ]
    }
   ],
   "source": [
    "data = json_resp['dataset']['data']\n",
    "\n",
    "opening_highest = None\n",
    "max_open_date = '' \n",
    "opening_lowest = None\n",
    "min_open_date = ''\n",
    "\n",
    "for row in data:\n",
    "    if row[1] is not None:\n",
    "        if opening_highest is None or row[1] > opening_highest:\n",
    "            opening_highest = row[1]\n",
    "            max_open_date = row[0]\n",
    "        \n",
    "        if opening_lowest is None or row[1] < opening_lowest:\n",
    "            opening_lowest = row[1]\n",
    "            min_open_date = row[0]\n",
    "        \n",
    "print(\"In 2017 this stock had a Max Opening of {0} on {1}\".format(opening_highest, max_open_date))\n",
    "print(\"In 2017 this stock had a Min Opening of {0} on {1}\".format(opening_lowest, min_open_date))"
   ]
  },
  {
   "cell_type": "markdown",
   "metadata": {},
   "source": [
    "## 4. What was the largest change in any one day (based on High and Low price)?"
   ]
  },
  {
   "cell_type": "code",
   "execution_count": 19,
   "metadata": {},
   "outputs": [
    {
     "name": "stdout",
     "output_type": "stream",
     "text": [
      "In 2017 this stock had the largest change of 2.8100000000000023 on 2017-05-11\n"
     ]
    }
   ],
   "source": [
    "largest_change = None\n",
    "change_date = ''\n",
    "\n",
    "for row in data:\n",
    "    if row[2] is not None and row[3] is not None:\n",
    "        if largest_change is None or row[2] - row[3] > largest_change:\n",
    "            largest_change = row[2] - row[3]\n",
    "            change_date = row[0]\n",
    "            \n",
    "print(\"In 2017 this stock had the largest change of {0} on {1}\".format(largest_change, change_date))"
   ]
  },
  {
   "cell_type": "markdown",
   "metadata": {},
   "source": [
    "## 5. What was the largest change between any two days (based on Closing Price)?"
   ]
  },
  {
   "cell_type": "code",
   "execution_count": 20,
   "metadata": {},
   "outputs": [
    {
     "name": "stdout",
     "output_type": "stream",
     "text": [
      "In 2017 this stock had the largest change of 2.559999999999995 between 2017-08-08 and 2017-08-09\n"
     ]
    }
   ],
   "source": [
    "change_two_days = None\n",
    "date_curr = ''\n",
    "date_prev = ''\n",
    "\n",
    "for i in range(1, len(data)):\n",
    "    if data[i][4] is not None and data[i-1][4] is not None:\n",
    "        if change_two_days is None or abs(data[i][4] - data[i-1][4]) > change_two_days:\n",
    "            change_two_days = abs(data[i][4] - data[i-1][4])\n",
    "            date_curr = data[i][0]\n",
    "            date_prev = data[i-1][0]\n",
    "            \n",
    "print(\"In 2017 this stock had the largest change of {0} between {1}\".format(change_two_days, date_curr) + \n",
    "      \" and {0}\".format(date_prev))"
   ]
  },
  {
   "cell_type": "markdown",
   "metadata": {},
   "source": [
    "## 6. What was the average daily trading volume during this year?"
   ]
  },
  {
   "cell_type": "code",
   "execution_count": 29,
   "metadata": {},
   "outputs": [
    {
     "name": "stdout",
     "output_type": "stream",
     "text": [
      "In 2017 this stock had an average trading volume of 89124.33725490196\n"
     ]
    }
   ],
   "source": [
    "trading_volume = [row[6] for row in data]\n",
    "num_of_trades = len(trading_volume)\n",
    "avg_trading_volume = sum(trading_volume) / num_of_trades\n",
    "print(\"In 2017 this stock had an average trading volume of {0}\".format(avg_trading_volume))"
   ]
  },
  {
   "cell_type": "markdown",
   "metadata": {},
   "source": [
    "## 7. What was the median trading volume during this year?"
   ]
  },
  {
   "cell_type": "code",
   "execution_count": 30,
   "metadata": {},
   "outputs": [
    {
     "name": "stdout",
     "output_type": "stream",
     "text": [
      "Median trading volume for the year 2017 is 76286.0\n"
     ]
    }
   ],
   "source": [
    "def med_trade(val, ele):\n",
    "    sorted_lst = sorted(val)\n",
    "    if ele % 2 == 0:\n",
    "        return (sorted_lst[ele/2] + sorted_lst[(ele/2)+1])/2\n",
    "    else:\n",
    "        return sorted_lst[ele//2]\n",
    "\n",
    "print(\"Median trading volume for the year 2017 is {0}\".format(med_trade(trading_volume, num_of_trades)))"
   ]
  },
  {
   "cell_type": "code",
   "execution_count": null,
   "metadata": {},
   "outputs": [],
   "source": []
  }
 ],
 "metadata": {
  "kernelspec": {
   "display_name": "Python 3",
   "language": "python",
   "name": "python3"
  },
  "language_info": {
   "codemirror_mode": {
    "name": "ipython",
    "version": 3
   },
   "file_extension": ".py",
   "mimetype": "text/x-python",
   "name": "python",
   "nbconvert_exporter": "python",
   "pygments_lexer": "ipython3",
   "version": "3.7.3"
  }
 },
 "nbformat": 4,
 "nbformat_minor": 2
}
