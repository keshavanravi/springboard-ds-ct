{
 "cells": [
  {
   "cell_type": "markdown",
   "metadata": {},
   "source": [
    "# Sentiment Analysis of Movie Reviews\n",
    "\n",
    "## Overview\n",
    "\n",
    "This dataset contains movie reviews along with their associated binary sentiment polarity labels.\n",
    "\n",
    "## Dataset\n",
    "\n",
    "The core dataset contains 50,000 reviews split evenly into 25k train and 25k test sets. The overall distribution of labels is balanced (25k pos and 25k neg).\n",
    "\n",
    "There are two top-level directories [train/, test/] corresponding to the training and test sets. Each contains [pos/, neg/] directories for the reviews with binary labels positive and negative. Within these directories, reviews are stored in text files named following the convention [[id]_[rating].txt] where [id] is a unique id and [rating] is the star rating for that review on a 1-10 scale. For example, the file [test/pos/200_8.txt] is the text for a positive-labeled test set example with unique id 200 and star rating 8/10 from IMDb."
   ]
  },
  {
   "cell_type": "markdown",
   "metadata": {},
   "source": [
    "## Data Loading\n",
    "\n",
    "Data is split into various files spread into two folders\n",
    "    \n",
    "    - train\n",
    "    - test\n",
    "    \n",
    "In each of these folders data is further split based on sentiment:\n",
    "\n",
    "    - pos\n",
    "    - neg\n",
    "    \n",
    "Each of these folders have individual files corresponding to individual reviews and the files names are labelled in this format: <index>_<rating>.txt\n",
    "    \n",
    "Granted we are only concerned if the review has a positive sentiment or negative sentiment and not interested at this point what the actual rating is, I will be loading the training data into a list and create another list which contains the polarity of the data.\n",
    "    \n",
    "This will therefore be a binary classification problem."
   ]
  },
  {
   "cell_type": "code",
   "execution_count": 1,
   "metadata": {},
   "outputs": [],
   "source": [
    "train_set = []\n",
    "train_labels = []\n",
    "test_set = []\n",
    "test_labels = []\n",
    "\n",
    "def data_sentiment_split(path_to_files, train=True):\n",
    "    \n",
    "    for filename in os.listdir(path_to_files):\n",
    "        rating_lst = filename.split(\"_\")\n",
    "        rating = int(rating_lst[1].split(\".\")[0])\n",
    "        with open(path_to_files + filename, 'r', encoding='utf-8') as f:\n",
    "            file_line = f.readline()\n",
    "    \n",
    "        if train:\n",
    "            train_set.append(file_line.strip())\n",
    "            if rating >= 7:\n",
    "                train_labels.append(1)\n",
    "            else:\n",
    "                train_labels.append(0)\n",
    "        else:\n",
    "            test_set.append(file_line.strip())\n",
    "            if rating >= 7:\n",
    "                test_labels.append(1)\n",
    "            else:\n",
    "                test_labels.append(0)\n",
    "\n",
    "import os\n",
    "\n",
    "data_sentiment_split('../capstone_01_movie_reviews/aclImdb/train/pos/')\n",
    "data_sentiment_split('../capstone_01_movie_reviews/aclImdb/train/neg/')\n",
    "data_sentiment_split('../capstone_01_movie_reviews/aclImdb/test/pos/', train=False)\n",
    "data_sentiment_split('../capstone_01_movie_reviews/aclImdb/test/neg/', train=False)"
   ]
  },
  {
   "cell_type": "markdown",
   "metadata": {},
   "source": [
    "## Cleaning the Data\n",
    "\n",
    "Data when loaded looks pretty messy. For Example:"
   ]
  },
  {
   "cell_type": "code",
   "execution_count": 2,
   "metadata": {},
   "outputs": [
    {
     "name": "stdout",
     "output_type": "stream",
     "text": [
      "I was prepared for a turgid talky soap opera cum travelogue, but was pleased to find a fast-paced script, an underlying moral, excellent portrayals from all the actors, especially Peter Finch, amazing special effects, suspense, and beautiful cinematography--there's even a shot of the majestic stone Buddhas recently destroyed by the Taliban. Not to mention Elizabeth Taylor at her most gloriously beautiful and sympathetic, before she gave in to the gaspy hysterics that marred her later work. All the supporting players round it out, and I do wonder who trained all those elephants.<br /><br />Speaking of the stone-Buddha sequence, you really can discern that it's Vivien Leigh in the long shots. Her shape and the way she moves is distinct from Taylor's. The only thing marring that sequence are the poorly done process shots, where the background moves by much too fast for horses at a walk.<br /><br />If you want a thought-provoking film that is beautiful to watch and never boring, spend a few hours with Elephant Walk.\n"
     ]
    }
   ],
   "source": [
    "print(train_set[100])"
   ]
  },
  {
   "cell_type": "markdown",
   "metadata": {},
   "source": [
    "As we can see, there are a bunch of \\<br /\\> tags. Other than that the data probably has several other elements which we need to first get rid of prior to doing anything with the data itself."
   ]
  },
  {
   "cell_type": "code",
   "execution_count": 3,
   "metadata": {},
   "outputs": [
    {
     "name": "stdout",
     "output_type": "stream",
     "text": [
      "i was prepared for a turgid talky soap opera cum travelogue but was pleased to find a fast paced script an underlying moral excellent portrayals from all the actors especially peter finch amazing special effects suspense and beautiful cinematography  theres even a shot of the majestic stone buddhas recently destroyed by the taliban not to mention elizabeth taylor at her most gloriously beautiful and sympathetic before she gave in to the gaspy hysterics that marred her later work all the supporting players round it out and i do wonder who trained all those elephants speaking of the stone buddha sequence you really can discern that its vivien leigh in the long shots her shape and the way she moves is distinct from taylors the only thing marring that sequence are the poorly done process shots where the background moves by much too fast for horses at a walk if you want a thought provoking film that is beautiful to watch and never boring spend a few hours with elephant walk\n"
     ]
    }
   ],
   "source": [
    "import re\n",
    "\n",
    "def remove_punc_tags(review_list):\n",
    "    for i, review in enumerate(review_list):\n",
    "        review = re.compile(\"(\\.)|(\\;)|(\\:)|(\\!)|(\\')|(\\?)|(\\,)|(\\\")|(\\()|(\\))|(\\[)|(\\])|(\\d+)\").sub(\"\", review.lower())\n",
    "        review = re.compile(\"(<br\\s*/><br\\s*/>)|(\\-)|(\\/)\").sub(\" \", review)\n",
    "        review_list[i] = review\n",
    "    return review_list\n",
    "\n",
    "train_set = remove_punc_tags(train_set)\n",
    "test_set = remove_punc_tags(test_set)\n",
    "\n",
    "print(train_set[100])"
   ]
  },
  {
   "cell_type": "markdown",
   "metadata": {},
   "source": [
    "Below I will be extracting all the unique words that are used in each of these reviews. This I plan to use in the form of Word Cloud later."
   ]
  },
  {
   "cell_type": "code",
   "execution_count": 4,
   "metadata": {},
   "outputs": [],
   "source": [
    "unique_words = {}\n",
    "for review in train_set:\n",
    "    review_words = review.split(\" \")\n",
    "    for word in review_words:\n",
    "        unique_words[word] = unique_words.get(word, 0) + 1"
   ]
  }
 ],
 "metadata": {
  "kernelspec": {
   "display_name": "Python 3",
   "language": "python",
   "name": "python3"
  },
  "language_info": {
   "codemirror_mode": {
    "name": "ipython",
    "version": 3
   },
   "file_extension": ".py",
   "mimetype": "text/x-python",
   "name": "python",
   "nbconvert_exporter": "python",
   "pygments_lexer": "ipython3",
   "version": "3.8.5"
  }
 },
 "nbformat": 4,
 "nbformat_minor": 4
}
